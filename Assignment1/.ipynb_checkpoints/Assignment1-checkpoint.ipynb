{
 "cells": [
  {
   "cell_type": "code",
   "execution_count": 1,
   "metadata": {},
   "outputs": [],
   "source": [
    "import torch\n",
    "import torch.nn as nn\n",
    "import numpy as np"
   ]
  },
  {
   "cell_type": "code",
   "execution_count": 2,
   "metadata": {},
   "outputs": [],
   "source": [
    "from matplotlib import pyplot\n",
    "from pprint import pprint\n",
    "%matplotlib inline"
   ]
  },
  {
   "cell_type": "code",
   "execution_count": 3,
   "metadata": {},
   "outputs": [],
   "source": [
    "def computeY(X, sigma) :\n",
    "    mu = 0 \n",
    "    return np.cos(2*np.pi*X) + (sigma*np.random.randn(X.size,1)+mu)"
   ]
  },
  {
   "cell_type": "code",
   "execution_count": 4,
   "metadata": {},
   "outputs": [],
   "source": [
    "def getData(N, sigma):\n",
    "    #np.random.seed(40)\n",
    "    X = np.random.uniform(low=0,high=1.0,size=(N,1))\n",
    "    #X = torch.sort(X).values\n",
    "    Y = computeY(X, sigma)\n",
    "    X = torch.tensor(X,dtype=torch.float32)\n",
    "    Y = torch.tensor(Y,dtype=torch.float32)\n",
    "    return X, Y"
   ]
  },
  {
   "cell_type": "code",
   "execution_count": 5,
   "metadata": {},
   "outputs": [],
   "source": [
    "def createNbyDPolynomial(X,N,d):\n",
    "    XPoly = torch.ones((N,d+1))\n",
    "    for i in range(N):\n",
    "        for j in range(1,d+1):\n",
    "            XPoly[i,j] = X[i]**j\n",
    "    return XPoly"
   ]
  },
  {
   "cell_type": "code",
   "execution_count": 6,
   "metadata": {},
   "outputs": [],
   "source": [
    "def getXY(X,Y,N,d):\n",
    "    XPoly = createNbyDPolynomial(X,N,d)\n",
    "    return XPoly, Y"
   ]
  },
  {
   "cell_type": "code",
   "execution_count": 7,
   "metadata": {},
   "outputs": [],
   "source": [
    "def getTrainingData(XPoly, Y):\n",
    "    indexes = np.arange(N)\n",
    "    np.random.shuffle(indexes)\n",
    "    \n",
    "    trainingDataSize = int(len(X) * 0.8)\n",
    "    if trainingDataSize == 0 :\n",
    "        trainingDataSize = 1\n",
    "    \n",
    "    trainingIndexes = indexes[:trainingDataSize]\n",
    "    valIndexes = indexes[trainingDataSize:]\n",
    "\n",
    "    XTrain, YTrain = XPoly[trainingIndexes], Y[trainingIndexes]\n",
    "    XVal, YVal = XPoly[valIndexes], Y[valIndexes]\n",
    "    \n",
    "    return XTrain, YTrain, XVal, YVal, trainingIndexes"
   ]
  },
  {
   "cell_type": "code",
   "execution_count": 8,
   "metadata": {},
   "outputs": [],
   "source": [
    "def getMSE(Y, Ybar) :\n",
    "    error = Y-Ybar\n",
    "    mse =  error ** 2\n",
    "    return mse.mean(), error"
   ]
  },
  {
   "cell_type": "code",
   "execution_count": 9,
   "metadata": {},
   "outputs": [],
   "source": [
    "def getMSEReg(Y,Ybar,theta,reg):\n",
    "    error = Y-Ybar\n",
    "    errSquared = error ** 2\n",
    "    mse =  errSquared.mean()\n",
    "    sumThetaSq = torch.sum(theta**2, dim=0)\n",
    "    mseReg = mse + (reg*sumThetaSq)\n",
    "    return mseReg, error"
   ]
  },
  {
   "cell_type": "code",
   "execution_count": 10,
   "metadata": {},
   "outputs": [],
   "source": [
    "def computeMiniBatchGrad(batchSize, error, XTrain):\n",
    "    trainingIndexes = np.arange(len(XTrain))\n",
    "    # shuffle indexes so we aren't picking the same training samples\n",
    "    np.random.shuffle(trainingIndexes)\n",
    "    # take a [batchSize] of the training indexes and \n",
    "    batchIndexes = trainingIndexes[:batchSize]\n",
    "    XSGD, ErrSGD = XTrain[batchIndexes], error[batchIndexes]\n",
    "    grad = -2 * torch.mm(torch.t(XSGD), ErrSGD)\n",
    "    #grad = -2 * torch.mm(XSGD.reshape(-1,1), ErrSGD)\n",
    "    # we can't take the mean of the gradient here because the summation has already happened in the matrix multiplication\n",
    "    # all we need to do is divide the individual values by the batch size\n",
    "    return grad/batchSize"
   ]
  },
  {
   "cell_type": "code",
   "execution_count": 11,
   "metadata": {},
   "outputs": [],
   "source": [
    "def updateParams(theta, lrate, grad):\n",
    "    return theta - (lrate * grad)"
   ]
  },
  {
   "cell_type": "code",
   "execution_count": 12,
   "metadata": {},
   "outputs": [],
   "source": [
    "def updateParamsReg(theta,lrate,grad,reg):\n",
    "    gradReg = 2*reg*theta\n",
    "    return theta - (lrate * (grad+gradReg))"
   ]
  },
  {
   "cell_type": "code",
   "execution_count": 13,
   "metadata": {},
   "outputs": [],
   "source": [
    "def initTheta(d) :\n",
    "    # The bias b is absorbed into theta as b(knot) and 1 is absorbed into X as X(knot)\n",
    "    # start with d+1 randomly generated normal distribution\n",
    "    theta = torch.tensor(np.random.uniform(low=0,high=1.0,size=(d+1,1)),dtype=torch.float32)#assuming d = 2. will become d+1\n",
    "    return theta"
   ]
  },
  {
   "cell_type": "code",
   "execution_count": 14,
   "metadata": {},
   "outputs": [],
   "source": [
    "# should be plotting the MSE vs number of runs : run till convergence\n",
    "def fit(XTrain,YTrain,d,reg):\n",
    "    prevMSE = 0\n",
    "    currentMSE = 0\n",
    "    lrate = 2e-1\n",
    "    theta = initTheta(d)\n",
    "    N = len(XTrain)\n",
    "    \n",
    "    for i in range(5000):\n",
    "        # set previous mean squared error to current mean squared error\n",
    "        prevMSE = currentMSE\n",
    "        # calculate the estimated Y(bar) using there and X train\n",
    "        Ybar = torch.mm(XTrain,theta)\n",
    "        # calculate the mean squared error between true Y and estimated Y\n",
    "        currentMSE, err = getMSEReg(YTrain, Ybar, theta, reg)\n",
    "        # compute mini batch stochastic gradient descent\n",
    "        gradient = computeMiniBatchGrad(int(0.5*N), err, XTrain)\n",
    "        # update the parameters of theta using the old theta, the learning rate and the gradient\n",
    "        theta = updateParamsReg(theta, lrate, gradient, reg)\n",
    "        '''\n",
    "        else:\n",
    "            # calculate the mean squared error between true Y and estimated Y\n",
    "            currentMSE, err = getMSE(YTrain, Ybar)\n",
    "            # compute mini batch stochastic gradient descent\n",
    "            gradient = computeMiniBatchGrad(int(0.5*N), err, XTrain)\n",
    "            # update the parameters of theta using the old theta, the learning rate and the gradient\n",
    "            theta = updateParams(theta, lrate, gradient)\n",
    "            '''\n",
    "        \n",
    "    return currentMSE, theta\n",
    "        "
   ]
  },
  {
   "cell_type": "code",
   "execution_count": 25,
   "metadata": {},
   "outputs": [],
   "source": [
    "def runTest(testN,sigma,d,theta,reg):\n",
    "    X,Y = getData(testN,sigma)\n",
    "    XTest, YTest = getXY(X,Y,testN,d)\n",
    "    YTestbar = torch.mm(XTest,theta)\n",
    "    mse, YTestErr = getMSEReg(YTest,YTestbar,theta,reg)\n",
    "    return X,YTest,YTestbar,YTestErr,mse"
   ]
  },
  {
   "cell_type": "code",
   "execution_count": 26,
   "metadata": {},
   "outputs": [],
   "source": [
    "def fitData(XTrain,YTrain,N,d,sigma,reg=False):\n",
    "    #eIns, epochs, theta = fit(XTrain,YTrain,d)\n",
    "    eIn, theta = fit(XTrain,YTrain,d,reg)\n",
    "    X,YTest,YTestbar,YTestErr,eOut = runTest(1500,sigma,d,theta,reg)\n",
    "    '''\n",
    "    X,Y = getData(1500,sigma)\n",
    "    XTest, YTest = getXY(X,Y,1500,d)\n",
    "    YTestbar = torch.mm(XTest,theta)\n",
    "    eBias = 0\n",
    "    if reg:\n",
    "        eBias, YTestErr = getMSEReg(YTest,YTestBar,theta,-1e-5)\n",
    "    else :\n",
    "        eBias, YTestErr = getMSE(YTest,YTestBar)\n",
    "    eOut, errTest = getMSE(YTest,YTestbar)\n",
    "    #return theta(estimated polynomials), eIn (training error), eOut (testing error)\n",
    "    '''\n",
    "    return theta, eIn, eOut"
   ]
  },
  {
   "cell_type": "code",
   "execution_count": 27,
   "metadata": {},
   "outputs": [],
   "source": [
    "def experiment(N,d,sigma,reg) :\n",
    "    trials = 50\n",
    "    eIns = torch.empty(trials,1,dtype=torch.float32)\n",
    "    eOuts = torch.empty(trials,1,dtype=torch.float32)\n",
    "    thetas = torch.empty(trials,d+1,dtype=torch.float32)\n",
    "    for i in range(trials):\n",
    "        X,Y = getData(N,sigma)\n",
    "        XTrain, YTrain = getXY(X,Y,N,d)\n",
    "        theta, eIn, eOut = fitData(XTrain,YTrain,N,d,sigma,reg)\n",
    "        #print(eIn,eOut,theta)\n",
    "        #thetas[i], eIns[i], eOuts[i] = theta.reshape(-1,1), eIn, eOut\n",
    "        thetas[i], eIns[i], eOuts[i] = torch.t(theta), eIn, eOut\n",
    "    eIn, eOut = np.nanmean(eIns.numpy()), np.nanmean(eOuts.numpy())\n",
    "    # find mean over each column\n",
    "    thetaNP = np.nanmean(thetas.numpy(),axis=0)\n",
    "    # initialize size of testN\n",
    "    X,YTest,YTestbar,YTestErr,eBias = runTest(1500,sigma,d,theta,reg)\n",
    "    '''\n",
    "    testN = 1500\n",
    "    X,Y = getData(testN,sigma)\n",
    "    XTest, YTest = getXY(X,Y,testN,d)\n",
    "    theta = torch.tensor(thetaNP)\n",
    "    YTestBar = torch.mm(XTest,theta.reshape(-1,1))\n",
    "    #YTestBar = torch.mm(XTest,torch.t(theta))\n",
    "    \n",
    "    # this is the MSE for the averaged polynomials\n",
    "    eBias = 0\n",
    "    if reg:\n",
    "        eBias, YTestErr = getMSEReg(YTest,YTestBar,theta,-1e-5)\n",
    "    else :\n",
    "        eBias, YTestErr = getMSE(YTest,YTestBar)\n",
    "    \n",
    "    '''\n",
    "    \n",
    "    return X, YTest, YTestbar, eIn, eOut, eBias"
   ]
  },
  {
   "cell_type": "code",
   "execution_count": 18,
   "metadata": {},
   "outputs": [],
   "source": [
    "# setting reg to True means activating regularization - weight decay\n",
    "def experimentResult(N,d,sigma,reg) :\n",
    "    X,Y,YBar,eIn,eOut,eBias = experiment(N,d,sigma,reg)\n",
    "    print(f\"Combination : {[N,d,sigma]} \\t Training Error : {eIn} \\t Testing Error : {eOut} \\t Bias : {eBias}\")\n",
    "     #'''\n",
    "    pyplot.scatter(X.numpy(),Y.numpy())\n",
    "    pyplot.plot(X,YBar,'ro')\n",
    "    pyplot.legend(['Estimated', 'Original'])\n",
    "    #'''\n",
    "    return eIn,eOut,eBias"
   ]
  },
  {
   "cell_type": "code",
   "execution_count": 28,
   "metadata": {},
   "outputs": [
    {
     "name": "stdout",
     "output_type": "stream",
     "text": [
      "Combination : [100, 10, 0.01] \t Training Error : 0.009876515716314316 \t Testing Error : 0.011107295751571655 \t Bias : tensor([0.0106])\n"
     ]
    },
    {
     "data": {
      "text/plain": [
       "(0.009876516, 0.011107296, tensor([0.0106]))"
      ]
     },
     "execution_count": 28,
     "metadata": {},
     "output_type": "execute_result"
    },
    {
     "data": {
      "image/png": "[encoded data removed]",
      "text/plain": [
       "<Figure size 432x288 with 1 Axes>"
      ]
     },
     "metadata": {
      "needs_background": "light"
     },
     "output_type": "display_data"
    }
   ],
   "source": [
    "experimentResult(100,10,0.01,0)"
   ]
  },
  {
   "cell_type": "code",
   "execution_count": 29,
   "metadata": {},
   "outputs": [
    {
     "name": "stdout",
     "output_type": "stream",
     "text": [
      "Combination : [100, 10, 0.01] \t Training Error : 0.008862195536494255 \t Testing Error : 0.010430902242660522 \t Bias : tensor([0.0099])\n"
     ]
    },
    {
     "data": {
      "text/plain": [
       "(0.008862196, 0.010430902, tensor([0.0099]))"
      ]
     },
     "execution_count": 29,
     "metadata": {},
     "output_type": "execute_result"
    },
    {
     "data": {
      "image/png": "[encoded data removed]",
      "text/plain": [
       "<Figure size 432x288 with 1 Axes>"
      ]
     },
     "metadata": {
      "needs_background": "light"
     },
     "output_type": "display_data"
    }
   ],
   "source": [
    "experimentResult(100,10,0.01,-1e-5)"
   ]
  },
  {
   "cell_type": "code",
   "execution_count": null,
   "metadata": {},
   "outputs": [],
   "source": [
    "experimentResult(2,12,1,True)"
   ]
  },
  {
   "cell_type": "code",
   "execution_count": 31,
   "metadata": {},
   "outputs": [],
   "source": [
    "NList = [2,5,10,20,50,100,200]\n",
    "dList = np.arange(0,21)\n",
    "sigmas = [0.01,0.1,1]\n",
    "#print(NList,dList, sigma)"
   ]
  },
  {
   "cell_type": "code",
   "execution_count": 34,
   "metadata": {},
   "outputs": [],
   "source": [
    "def runExperiments(reg):\n",
    "    results = []\n",
    "    for N in NList:\n",
    "        for d in dList:\n",
    "            for sigma in sigmas:\n",
    "                X,Y,YBar,eIn,eOut,eBias = experiment(N,d,sigma,reg)\n",
    "                print(f\"Combination : {[N,d,sigma]} \\t Training Error : {eIn} \\t Testing Error : {eOut} \\t Bias : {eBias.numpy()[0]}\")\n",
    "                results.append([N,d,sigma,eIn.item(),eOut.item(),eBias.item()])\n",
    "\n",
    "    with open (f\"./results/experiments_weight_decay_{reg}\",'w', encoding=\"utf-8\") as f:\n",
    "        pprint(results, f)         "
   ]
  },
  {
   "cell_type": "code",
   "execution_count": null,
   "metadata": {
    "scrolled": true
   },
   "outputs": [
    {
     "name": "stdout",
     "output_type": "stream",
     "text": [
      "Combination : [2, 0, 0.01] \t Training Error : 0.4367251992225647 \t Testing Error : 0.7476361989974976 \t Bias : 0.49681636691093445\n"
     ]
    }
   ],
   "source": [
    "runExperiments(0)"
   ]
  },
  {
   "cell_type": "code",
   "execution_count": null,
   "metadata": {},
   "outputs": [],
   "source": [
    "runExperiments(-1e-5)"
   ]
  },
  {
   "cell_type": "code",
   "execution_count": null,
   "metadata": {},
   "outputs": [],
   "source": [
    "# should be plotting the MSE vs number of runs : run till convergence\n",
    "def fitPlay(XTrain, YTrain, d):\n",
    "    prevMSE = 0\n",
    "    currentMSE = 0\n",
    "    epoch = 0\n",
    "    epochs = []\n",
    "    mses = []\n",
    "    lrate = 1e-1\n",
    "    theta = initTheta(d)\n",
    "    N = len(XTrain)\n",
    "    \n",
    "    for i in range(5000):\n",
    "        # set previous mean squared error to current mean squared error\n",
    "        prevMSE = currentMSE\n",
    "        # calculate the estimated Y(bar) using there and X train\n",
    "        \n",
    "        Ybar = torch.mm(XTrain,theta)\n",
    "        # calculate the mean squared error between true Y and estimated Y\n",
    "        currentMSE, err = getMSE(YTrain, Ybar)\n",
    "        # track mean squared errors\n",
    "        mses.append(currentMSE)\n",
    "        \n",
    "        # compute mini batch stochastic gradient descent\n",
    "        gradient = computeMiniBatchGrad(int(0.5*N), err, XTrain)\n",
    "        # update the parameters of theta using the old theta, the learning rate and the gradient\n",
    "        theta = updateParams(theta, lrate, gradient)\n",
    "        epoch += 1\n",
    "        epochs.append(epoch)\n",
    "        print(f\"mean squared error : {currentMSE} \\t epoch:{epoch}\")\n",
    "        \n",
    "        #if (currentMSE - prevMSE) == 0:\n",
    "            #break\n",
    "    return currentMSE, theta, mses, epochs\n",
    "        "
   ]
  },
  {
   "cell_type": "code",
   "execution_count": null,
   "metadata": {},
   "outputs": [],
   "source": [
    "def fitDataPlay(XTrain, YTrain, N, d, sigma):\n",
    "    eIn, theta, mses, epochs = fitPlay(XTrain, YTrain, d)\n",
    "    return mses, epochs, theta\n",
    "'''\n",
    "    XTest, YTest = getTestData(1000, sigma, d)\n",
    "    YTestbar = torch.mm(XTest,theta)\n",
    "    eOut, errTest = getMSE(YTest, YTestbar)\n",
    "    return theta, eIns, eOut\n",
    "    '''"
   ]
  },
  {
   "cell_type": "code",
   "execution_count": null,
   "metadata": {},
   "outputs": [],
   "source": [
    "N = 2\n",
    "d = 5\n",
    "X, Y = getData(N, 1)\n",
    "print(X.size(), Y.size())\n",
    "pyplot.plot(X.numpy(),Y.numpy(),'ro')"
   ]
  },
  {
   "cell_type": "code",
   "execution_count": null,
   "metadata": {},
   "outputs": [],
   "source": [
    "XPoly = createNbyDPolynomial(X, N, d)"
   ]
  },
  {
   "cell_type": "code",
   "execution_count": null,
   "metadata": {},
   "outputs": [],
   "source": [
    "mses, epochs, theta = fitDataPlay(XPoly, Y, N, d, 1)"
   ]
  },
  {
   "cell_type": "code",
   "execution_count": null,
   "metadata": {},
   "outputs": [],
   "source": [
    "print(theta)\n",
    "print(theta.shape)\n",
    "mse_arr = np.array(mses)\n",
    "print(len(mse_arr))\n",
    "epoch_arr = np.array(epochs)\n",
    "print(len(epoch_arr))\n",
    "print(mse_arr[-1])"
   ]
  },
  {
   "cell_type": "code",
   "execution_count": null,
   "metadata": {},
   "outputs": [],
   "source": [
    "pyplot.plot(epoch_arr, mse_arr, 'y--')"
   ]
  },
  {
   "cell_type": "code",
   "execution_count": null,
   "metadata": {},
   "outputs": [],
   "source": [
    "YNew = torch.mm(XPoly,theta)\n",
    "#print(YNew)"
   ]
  },
  {
   "cell_type": "code",
   "execution_count": null,
   "metadata": {},
   "outputs": [],
   "source": [
    "pyplot.plot(X, Y, 'ro')\n",
    "pyplot.plot(X, YNew, 'go')\n",
    "pyplot.legend(['Cosine', 'Poly'])"
   ]
  }
 ],
 "metadata": {
  "kernelspec": {
   "display_name": "Python 3",
   "language": "python",
   "name": "python3"
  },
  "language_info": {
   "codemirror_mode": {
    "name": "ipython",
    "version": 3
   },
   "file_extension": ".py",
   "mimetype": "text/x-python",
   "name": "python",
   "nbconvert_exporter": "python",
   "pygments_lexer": "ipython3",
   "version": "3.7.2"
  }
 },
 "nbformat": 4,
 "nbformat_minor": 2
}
