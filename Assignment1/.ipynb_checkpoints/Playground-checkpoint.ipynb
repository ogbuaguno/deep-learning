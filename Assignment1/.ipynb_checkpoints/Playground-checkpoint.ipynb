{
 "cells": [
  {
   "cell_type": "code",
   "execution_count": 269,
   "metadata": {},
   "outputs": [],
   "source": [
    "import torch\n",
    "import numpy as np"
   ]
  },
  {
   "cell_type": "code",
   "execution_count": 270,
   "metadata": {},
   "outputs": [],
   "source": [
    "x = np.random.uniform(size=[5])"
   ]
  },
  {
   "cell_type": "code",
   "execution_count": null,
   "metadata": {},
   "outputs": [],
   "source": [
    "x\n",
    "# A derivative tells you how much a given quantity changes when you slightly vary some other quantity."
   ]
  },
  {
   "cell_type": "code",
   "execution_count": 271,
   "metadata": {},
   "outputs": [],
   "source": [
    "%matplotlib inline\n",
    "from matplotlib import pyplot\n",
    "from math import *"
   ]
  },
  {
   "cell_type": "code",
   "execution_count": 272,
   "metadata": {},
   "outputs": [],
   "source": [
    "def getData(N, sigma):\n",
    "    np.random.seed(40)\n",
    "    X = np.random.uniform(low=0,high=1.0,size=N)\n",
    "    Y = np.zeros(N)\n",
    "    for i in range(N) :\n",
    "        #Z is independent of X : The realization of X does not affect the zero-mean distribution of Z\n",
    "        Z = (1/(sigma * np.sqrt(2 * np.pi))) * np.exp( - (X[i])**2 / (2 * sigma**2))\n",
    "        Y[i] = cos(2 * np.pi * X[i]) + Z\n",
    "    return X, Y"
   ]
  },
  {
   "cell_type": "code",
   "execution_count": 273,
   "metadata": {},
   "outputs": [],
   "source": [
    "x, y = getData(20, 1)"
   ]
  },
  {
   "cell_type": "code",
   "execution_count": 274,
   "metadata": {},
   "outputs": [],
   "source": [
    "X = torch.Tensor(x)"
   ]
  },
  {
   "cell_type": "code",
   "execution_count": 275,
   "metadata": {},
   "outputs": [],
   "source": [
    "Y = torch.Tensor(y)"
   ]
  },
  {
   "cell_type": "code",
   "execution_count": 276,
   "metadata": {},
   "outputs": [
    {
     "data": {
      "text/plain": [
       "tensor(0.5274)"
      ]
     },
     "execution_count": 276,
     "metadata": {},
     "output_type": "execute_result"
    }
   ],
   "source": [
    "X.mean()"
   ]
  },
  {
   "cell_type": "code",
   "execution_count": 277,
   "metadata": {},
   "outputs": [
    {
     "data": {
      "image/png": "[encoded data removed]",
      "text/plain": [
       "<Figure size 432x288 with 1 Axes>"
      ]
     },
     "metadata": {
      "needs_background": "light"
     },
     "output_type": "display_data"
    }
   ],
   "source": [
    "pyplot.plot(X,Y,\"o\")\n",
    "pyplot.show()"
   ]
  },
  {
   "cell_type": "code",
   "execution_count": 302,
   "metadata": {},
   "outputs": [],
   "source": [
    "def getMSE(N, Ybar, Y) :\n",
    "    error = (Y-Ybar)\n",
    "    mse =  error ** 2\n",
    "    return mse.mean(), error"
   ]
  },
  {
   "cell_type": "code",
   "execution_count": 283,
   "metadata": {},
   "outputs": [],
   "source": [
    "# The bias b is absorbed into theta as b(knot) and 1 is absorbed into X as X(knot)\n",
    "torch.manual_seed(40)\n",
    "theta = torch.randn(3,1)#assuming d = 2. will become d+1"
   ]
  },
  {
   "cell_type": "code",
   "execution_count": 284,
   "metadata": {
    "scrolled": true
   },
   "outputs": [
    {
     "data": {
      "text/plain": [
       "tensor([[ 0.9307],\n",
       "        [-0.3482],\n",
       "        [ 0.8855]])"
      ]
     },
     "execution_count": 284,
     "metadata": {},
     "output_type": "execute_result"
    }
   ],
   "source": [
    "theta"
   ]
  },
  {
   "cell_type": "code",
   "execution_count": 285,
   "metadata": {},
   "outputs": [],
   "source": [
    "XPoly = torch.ones((20,3))#this will be N by d+1"
   ]
  },
  {
   "cell_type": "code",
   "execution_count": 286,
   "metadata": {},
   "outputs": [
    {
     "data": {
      "text/plain": [
       "tensor([[1., 1., 1.],\n",
       "        [1., 1., 1.],\n",
       "        [1., 1., 1.],\n",
       "        [1., 1., 1.],\n",
       "        [1., 1., 1.],\n",
       "        [1., 1., 1.],\n",
       "        [1., 1., 1.],\n",
       "        [1., 1., 1.],\n",
       "        [1., 1., 1.],\n",
       "        [1., 1., 1.],\n",
       "        [1., 1., 1.],\n",
       "        [1., 1., 1.],\n",
       "        [1., 1., 1.],\n",
       "        [1., 1., 1.],\n",
       "        [1., 1., 1.],\n",
       "        [1., 1., 1.],\n",
       "        [1., 1., 1.],\n",
       "        [1., 1., 1.],\n",
       "        [1., 1., 1.],\n",
       "        [1., 1., 1.]])"
      ]
     },
     "execution_count": 286,
     "metadata": {},
     "output_type": "execute_result"
    }
   ],
   "source": [
    "XPoly"
   ]
  },
  {
   "cell_type": "code",
   "execution_count": 287,
   "metadata": {
    "scrolled": true
   },
   "outputs": [
    {
     "data": {
      "text/plain": [
       "tensor([[1.0000e+00, 4.0769e-01, 1.6621e-01],\n",
       "        [1.0000e+00, 5.5366e-02, 3.0654e-03],\n",
       "        [1.0000e+00, 7.8853e-01, 6.2179e-01],\n",
       "        [1.0000e+00, 2.8731e-01, 8.2544e-02],\n",
       "        [1.0000e+00, 4.5035e-01, 2.0282e-01],\n",
       "        [1.0000e+00, 3.0391e-01, 9.2363e-02],\n",
       "        [1.0000e+00, 5.2640e-01, 2.7710e-01],\n",
       "        [1.0000e+00, 6.2381e-01, 3.8914e-01],\n",
       "        [1.0000e+00, 7.7678e-01, 6.0338e-01],\n",
       "        [1.0000e+00, 6.8624e-01, 4.7093e-01],\n",
       "        [1.0000e+00, 9.8094e-01, 9.6224e-01],\n",
       "        [1.0000e+00, 6.0082e-01, 3.6098e-01],\n",
       "        [1.0000e+00, 8.1397e-01, 6.6254e-01],\n",
       "        [1.0000e+00, 7.0865e-01, 5.0218e-01],\n",
       "        [1.0000e+00, 2.7535e-02, 7.5816e-04],\n",
       "        [1.0000e+00, 9.0427e-01, 8.1770e-01],\n",
       "        [1.0000e+00, 4.4990e-01, 2.0241e-01],\n",
       "        [1.0000e+00, 1.1892e-01, 1.4143e-02],\n",
       "        [1.0000e+00, 8.3530e-01, 6.9773e-01],\n",
       "        [1.0000e+00, 2.0225e-01, 4.0904e-02]])"
      ]
     },
     "execution_count": 287,
     "metadata": {},
     "output_type": "execute_result"
    }
   ],
   "source": [
    "# this will be for i in range N and j in range d+1\n",
    "for i in range(20):\n",
    "    for j in range(1,3):\n",
    "        XPoly[i,j] = X[i]**j\n",
    "XPoly"
   ]
  },
  {
   "cell_type": "code",
   "execution_count": 288,
   "metadata": {},
   "outputs": [
    {
     "data": {
      "text/plain": [
       "array([ 6, 16, 17,  1,  0,  4,  8, 11,  2, 14,  9,  7, 18, 12,  3, 10, 15,\n",
       "        5, 13, 19])"
      ]
     },
     "execution_count": 288,
     "metadata": {},
     "output_type": "execute_result"
    }
   ],
   "source": [
    "indices = np.arange(20)#should change to N\n",
    "np.random.shuffle(indices)\n",
    "indices"
   ]
  },
  {
   "cell_type": "code",
   "execution_count": 289,
   "metadata": {},
   "outputs": [],
   "source": [
    "trainSize = int(len(X) * 0.8)\n",
    "\n",
    "trainIndices = indices[:trainSize]\n",
    "valIndices = indices[trainSize:]\n",
    "\n",
    "XTrain, YTrain = XPoly[trainIndices], Y[trainIndices]\n",
    "XVal, YVal = XPoly[valIndices], Y[valIndices]"
   ]
  },
  {
   "cell_type": "code",
   "execution_count": 290,
   "metadata": {},
   "outputs": [
    {
     "data": {
      "text/plain": [
       "torch.Size([16, 3])"
      ]
     },
     "execution_count": 290,
     "metadata": {},
     "output_type": "execute_result"
    }
   ],
   "source": [
    "XTrain.size()"
   ]
  },
  {
   "cell_type": "code",
   "execution_count": 324,
   "metadata": {},
   "outputs": [
    {
     "data": {
      "text/plain": [
       "tensor([[ 0.9307],\n",
       "        [-0.3482],\n",
       "        [ 0.8855]])"
      ]
     },
     "execution_count": 324,
     "metadata": {},
     "output_type": "execute_result"
    }
   ],
   "source": [
    "theta.transpose_(0,-1)"
   ]
  },
  {
   "cell_type": "code",
   "execution_count": 325,
   "metadata": {},
   "outputs": [
    {
     "data": {
      "text/plain": [
       "torch.Size([3, 1])"
      ]
     },
     "execution_count": 325,
     "metadata": {},
     "output_type": "execute_result"
    }
   ],
   "source": [
    "theta.shape"
   ]
  },
  {
   "cell_type": "code",
   "execution_count": 326,
   "metadata": {},
   "outputs": [],
   "source": [
    "Ybar = torch.mm(XTrain,theta)"
   ]
  },
  {
   "cell_type": "code",
   "execution_count": 327,
   "metadata": {},
   "outputs": [
    {
     "data": {
      "text/plain": [
       "torch.Size([16, 1])"
      ]
     },
     "execution_count": 327,
     "metadata": {},
     "output_type": "execute_result"
    }
   ],
   "source": [
    "Ybar.shape"
   ]
  },
  {
   "cell_type": "code",
   "execution_count": 328,
   "metadata": {},
   "outputs": [
    {
     "data": {
      "text/plain": [
       "tensor([[0.9928],\n",
       "        [0.9533],\n",
       "        [0.9018],\n",
       "        [0.9142],\n",
       "        [0.9359],\n",
       "        [0.9535],\n",
       "        [1.1945],\n",
       "        [1.0412],\n",
       "        [1.2067],\n",
       "        [0.9218],\n",
       "        [1.1088],\n",
       "        [1.0581],\n",
       "        [1.2577],\n",
       "        [1.2340],\n",
       "        [0.9038],\n",
       "        [1.4412]])"
      ]
     },
     "execution_count": 328,
     "metadata": {},
     "output_type": "execute_result"
    }
   ],
   "source": [
    "Ybar"
   ]
  },
  {
   "cell_type": "code",
   "execution_count": 303,
   "metadata": {},
   "outputs": [],
   "source": [
    "mse = getMSE(20,YTrain,Ybar)"
   ]
  },
  {
   "cell_type": "code",
   "execution_count": 304,
   "metadata": {},
   "outputs": [
    {
     "data": {
      "text/plain": [
       "tensor(1.1738)"
      ]
     },
     "execution_count": 304,
     "metadata": {},
     "output_type": "execute_result"
    }
   ],
   "source": [
    "mse"
   ]
  },
  {
   "cell_type": "code",
   "execution_count": 314,
   "metadata": {},
   "outputs": [],
   "source": [
    "YTrain = YTrain.reshape(16,1)"
   ]
  },
  {
   "cell_type": "code",
   "execution_count": 315,
   "metadata": {},
   "outputs": [
    {
     "data": {
      "text/plain": [
       "torch.Size([16, 1])"
      ]
     },
     "execution_count": 315,
     "metadata": {},
     "output_type": "execute_result"
    }
   ],
   "source": [
    "YTrain.shape"
   ]
  },
  {
   "cell_type": "code",
   "execution_count": 316,
   "metadata": {},
   "outputs": [
    {
     "data": {
      "text/plain": [
       "torch.Size([16, 1])"
      ]
     },
     "execution_count": 316,
     "metadata": {},
     "output_type": "execute_result"
    }
   ],
   "source": [
    "Ybar.shape"
   ]
  },
  {
   "cell_type": "code",
   "execution_count": 329,
   "metadata": {},
   "outputs": [
    {
     "data": {
      "text/plain": [
       "tensor([[-25.0690],\n",
       "        [-15.4738],\n",
       "        [ -9.5653]])"
      ]
     },
     "execution_count": 329,
     "metadata": {},
     "output_type": "execute_result"
    }
   ],
   "source": [
    "2 * torch.mm(XTrain.transpose_(0,1), YTrain-Ybar)"
   ]
  },
  {
   "cell_type": "code",
   "execution_count": null,
   "metadata": {},
   "outputs": [],
   "source": [
    "def computeMiniBatchSGD(batchSize, YTrain, Ybar,XTrain):\n",
    "    np.random.shuffle(trainIndices)\n",
    "    batchIndices = trainIndices[:batchSize]\n",
    "    XSGD, YSGD = XTrain[batchIndices], Y"
   ]
  },
  {
   "cell_type": "code",
   "execution_count": 291,
   "metadata": {},
   "outputs": [
    {
     "data": {
      "text/plain": [
       "array([ 3,  6, 18, 12,  0,  9, 11, 16,  8, 17, 10, 14,  4,  2,  7,  1])"
      ]
     },
     "execution_count": 291,
     "metadata": {},
     "output_type": "execute_result"
    }
   ],
   "source": [
    "# For batchSize = 10, shuffle the indices and take 10 random samples to run mini batch SGD\n",
    "np.random.shuffle(trainIndices)\n",
    "trainIndices"
   ]
  }
 ],
 "metadata": {
  "kernelspec": {
   "display_name": "Python 3",
   "language": "python",
   "name": "python3"
  },
  "language_info": {
   "codemirror_mode": {
    "name": "ipython",
    "version": 3
   },
   "file_extension": ".py",
   "mimetype": "text/x-python",
   "name": "python",
   "nbconvert_exporter": "python",
   "pygments_lexer": "ipython3",
   "version": "3.7.2"
  }
 },
 "nbformat": 4,
 "nbformat_minor": 2
}
