{
 "cells": [
  {
   "cell_type": "code",
   "execution_count": 269,
   "metadata": {},
   "outputs": [],
   "source": [
    "import torch\n",
    "import numpy as np"
   ]
  },
  {
   "cell_type": "code",
   "execution_count": 270,
   "metadata": {},
   "outputs": [],
   "source": [
    "x = np.random.uniform(size=[5])"
   ]
  },
  {
   "cell_type": "code",
   "execution_count": null,
   "metadata": {},
   "outputs": [],
   "source": [
    "x\n",
    "# A derivative tells you how much a given quantity changes when you slightly vary some other quantity."
   ]
  },
  {
   "cell_type": "code",
   "execution_count": 418,
   "metadata": {},
   "outputs": [],
   "source": [
    "%matplotlib inline\n",
    "from matplotlib import pyplot\n",
    "from math import *"
   ]
  },
  {
   "cell_type": "code",
   "execution_count": 419,
   "metadata": {},
   "outputs": [],
   "source": [
    "def computeY(X, sigma) :\n",
    "    Z = (1/(sigma * np.sqrt(2 * np.pi))) * np.exp( - (X)**2 / (2 * sigma**2))\n",
    "    return torch.cos(2 * np.pi * X) + Z"
   ]
  },
  {
   "cell_type": "code",
   "execution_count": 420,
   "metadata": {},
   "outputs": [],
   "source": [
    "def getData(N, sigma):\n",
    "    np.random.seed(40)\n",
    "    X = torch.tensor(np.random.uniform(low=0,high=1.0,size=N))\n",
    "    Y = computeY(X, sigma)\n",
    "    return X, Y"
   ]
  },
  {
   "cell_type": "code",
   "execution_count": 421,
   "metadata": {},
   "outputs": [],
   "source": [
    "X, Y = getData(20, 1)"
   ]
  },
  {
   "cell_type": "code",
   "execution_count": 422,
   "metadata": {},
   "outputs": [
    {
     "data": {
      "text/plain": [
       "tensor(0.5274, dtype=torch.float64)"
      ]
     },
     "execution_count": 422,
     "metadata": {},
     "output_type": "execute_result"
    }
   ],
   "source": [
    "X.mean()"
   ]
  },
  {
   "cell_type": "code",
   "execution_count": 433,
   "metadata": {},
   "outputs": [
    {
     "data": {
      "image/png": "[encoded data removed]",
      "text/plain": [
       "<Figure size 432x288 with 1 Axes>"
      ]
     },
     "metadata": {
      "needs_background": "light"
     },
     "output_type": "display_data"
    }
   ],
   "source": [
    "pyplot.plot(X,Y,\"o\")\n",
    "pyplot.show()"
   ]
  },
  {
   "cell_type": "code",
   "execution_count": 342,
   "metadata": {},
   "outputs": [],
   "source": [
    "# The bias b is absorbed into theta as b(knot) and 1 is absorbed into X as X(knot)\n",
    "torch.manual_seed(40)\n",
    "theta = torch.randn(3,1)#assuming d = 2. will become d+1"
   ]
  },
  {
   "cell_type": "code",
   "execution_count": 343,
   "metadata": {
    "scrolled": true
   },
   "outputs": [
    {
     "data": {
      "text/plain": [
       "tensor([[ 0.9307],\n",
       "        [-0.3482],\n",
       "        [ 0.8855]])"
      ]
     },
     "execution_count": 343,
     "metadata": {},
     "output_type": "execute_result"
    }
   ],
   "source": [
    "theta"
   ]
  },
  {
   "cell_type": "code",
   "execution_count": 344,
   "metadata": {},
   "outputs": [],
   "source": [
    "XPoly = torch.ones((20,3))#this will be N by d+1"
   ]
  },
  {
   "cell_type": "code",
   "execution_count": 345,
   "metadata": {},
   "outputs": [
    {
     "data": {
      "text/plain": [
       "tensor([[1., 1., 1.],\n",
       "        [1., 1., 1.],\n",
       "        [1., 1., 1.],\n",
       "        [1., 1., 1.],\n",
       "        [1., 1., 1.],\n",
       "        [1., 1., 1.],\n",
       "        [1., 1., 1.],\n",
       "        [1., 1., 1.],\n",
       "        [1., 1., 1.],\n",
       "        [1., 1., 1.],\n",
       "        [1., 1., 1.],\n",
       "        [1., 1., 1.],\n",
       "        [1., 1., 1.],\n",
       "        [1., 1., 1.],\n",
       "        [1., 1., 1.],\n",
       "        [1., 1., 1.],\n",
       "        [1., 1., 1.],\n",
       "        [1., 1., 1.],\n",
       "        [1., 1., 1.],\n",
       "        [1., 1., 1.]])"
      ]
     },
     "execution_count": 345,
     "metadata": {},
     "output_type": "execute_result"
    }
   ],
   "source": [
    "XPoly"
   ]
  },
  {
   "cell_type": "code",
   "execution_count": 346,
   "metadata": {
    "scrolled": true
   },
   "outputs": [
    {
     "data": {
      "text/plain": [
       "tensor([[1.0000e+00, 4.0769e-01, 1.6621e-01],\n",
       "        [1.0000e+00, 5.5366e-02, 3.0654e-03],\n",
       "        [1.0000e+00, 7.8853e-01, 6.2179e-01],\n",
       "        [1.0000e+00, 2.8731e-01, 8.2544e-02],\n",
       "        [1.0000e+00, 4.5035e-01, 2.0282e-01],\n",
       "        [1.0000e+00, 3.0391e-01, 9.2363e-02],\n",
       "        [1.0000e+00, 5.2640e-01, 2.7710e-01],\n",
       "        [1.0000e+00, 6.2381e-01, 3.8914e-01],\n",
       "        [1.0000e+00, 7.7678e-01, 6.0338e-01],\n",
       "        [1.0000e+00, 6.8624e-01, 4.7093e-01],\n",
       "        [1.0000e+00, 9.8094e-01, 9.6224e-01],\n",
       "        [1.0000e+00, 6.0082e-01, 3.6098e-01],\n",
       "        [1.0000e+00, 8.1397e-01, 6.6254e-01],\n",
       "        [1.0000e+00, 7.0865e-01, 5.0218e-01],\n",
       "        [1.0000e+00, 2.7535e-02, 7.5816e-04],\n",
       "        [1.0000e+00, 9.0427e-01, 8.1770e-01],\n",
       "        [1.0000e+00, 4.4990e-01, 2.0241e-01],\n",
       "        [1.0000e+00, 1.1892e-01, 1.4143e-02],\n",
       "        [1.0000e+00, 8.3530e-01, 6.9773e-01],\n",
       "        [1.0000e+00, 2.0225e-01, 4.0904e-02]])"
      ]
     },
     "execution_count": 346,
     "metadata": {},
     "output_type": "execute_result"
    }
   ],
   "source": [
    "# this will be for i in range N and j in range d+1\n",
    "for i in range(20):\n",
    "    for j in range(1,3):\n",
    "        XPoly[i,j] = X[i]**j\n",
    "XPoly"
   ]
  },
  {
   "cell_type": "code",
   "execution_count": 347,
   "metadata": {},
   "outputs": [
    {
     "data": {
      "text/plain": [
       "array([17, 14,  1, 16, 11, 12, 15,  8, 13,  6,  7,  9,  4, 10,  2,  3, 18,\n",
       "        5,  0, 19])"
      ]
     },
     "execution_count": 347,
     "metadata": {},
     "output_type": "execute_result"
    }
   ],
   "source": [
    "indices = np.arange(20)#should change to N\n",
    "np.random.shuffle(indices)\n",
    "indices"
   ]
  },
  {
   "cell_type": "code",
   "execution_count": 348,
   "metadata": {},
   "outputs": [],
   "source": [
    "trainSize = int(len(X) * 0.8)\n",
    "\n",
    "trainIndices = indices[:trainSize]\n",
    "valIndices = indices[trainSize:]\n",
    "\n",
    "XTrain, YTrain = XPoly[trainIndices], Y[trainIndices]\n",
    "XVal, YVal = XPoly[valIndices], Y[valIndices]"
   ]
  },
  {
   "cell_type": "code",
   "execution_count": 349,
   "metadata": {},
   "outputs": [
    {
     "data": {
      "text/plain": [
       "torch.Size([16, 3])"
      ]
     },
     "execution_count": 349,
     "metadata": {},
     "output_type": "execute_result"
    }
   ],
   "source": [
    "XTrain.size()"
   ]
  },
  {
   "cell_type": "code",
   "execution_count": 350,
   "metadata": {},
   "outputs": [
    {
     "data": {
      "text/plain": [
       "torch.Size([3, 1])"
      ]
     },
     "execution_count": 350,
     "metadata": {},
     "output_type": "execute_result"
    }
   ],
   "source": [
    "theta.shape"
   ]
  },
  {
   "cell_type": "code",
   "execution_count": 351,
   "metadata": {},
   "outputs": [],
   "source": [
    "Ybar = torch.mm(XTrain,theta)"
   ]
  },
  {
   "cell_type": "code",
   "execution_count": 352,
   "metadata": {},
   "outputs": [
    {
     "data": {
      "text/plain": [
       "torch.Size([16, 1])"
      ]
     },
     "execution_count": 352,
     "metadata": {},
     "output_type": "execute_result"
    }
   ],
   "source": [
    "Ybar.shape"
   ]
  },
  {
   "cell_type": "code",
   "execution_count": 353,
   "metadata": {},
   "outputs": [
    {
     "data": {
      "text/plain": [
       "tensor([[0.9018],\n",
       "        [0.9218],\n",
       "        [0.9142],\n",
       "        [0.9533],\n",
       "        [1.0412],\n",
       "        [1.2340],\n",
       "        [1.3399],\n",
       "        [1.1945],\n",
       "        [1.1286],\n",
       "        [0.9928],\n",
       "        [1.0581],\n",
       "        [1.1088],\n",
       "        [0.9535],\n",
       "        [1.4412],\n",
       "        [1.2067],\n",
       "        [0.9038]])"
      ]
     },
     "execution_count": 353,
     "metadata": {},
     "output_type": "execute_result"
    }
   ],
   "source": [
    "Ybar"
   ]
  },
  {
   "cell_type": "code",
   "execution_count": 362,
   "metadata": {},
   "outputs": [],
   "source": [
    "def getMSE(N, Ybar, Y) :\n",
    "    error = Y-Ybar\n",
    "    mse =  error ** 2\n",
    "    return mse.mean(), error"
   ]
  },
  {
   "cell_type": "code",
   "execution_count": 363,
   "metadata": {},
   "outputs": [],
   "source": [
    "mse, error = getMSE(20,YTrain,Ybar)"
   ]
  },
  {
   "cell_type": "code",
   "execution_count": 364,
   "metadata": {},
   "outputs": [
    {
     "data": {
      "text/plain": [
       "tensor(1.0486)"
      ]
     },
     "execution_count": 364,
     "metadata": {},
     "output_type": "execute_result"
    }
   ],
   "source": [
    "mse"
   ]
  },
  {
   "cell_type": "code",
   "execution_count": 368,
   "metadata": {},
   "outputs": [
    {
     "data": {
      "text/plain": [
       "tensor([[-0.2279],\n",
       "        [-0.4621],\n",
       "        [-0.4243],\n",
       "        [ 1.5436],\n",
       "        [ 1.5141],\n",
       "        [ 0.5563],\n",
       "        [ 0.2504],\n",
       "        [ 0.7321],\n",
       "        [ 1.0752],\n",
       "        [ 1.6317],\n",
       "        [ 1.4421],\n",
       "        [ 1.1835],\n",
       "        [ 1.5448],\n",
       "        [ 0.2018],\n",
       "        [ 0.6746],\n",
       "        [ 0.7532]])"
      ]
     },
     "execution_count": 368,
     "metadata": {},
     "output_type": "execute_result"
    }
   ],
   "source": [
    "error"
   ]
  },
  {
   "cell_type": "code",
   "execution_count": 369,
   "metadata": {},
   "outputs": [],
   "source": [
    "YTrain = YTrain.reshape(16,1)"
   ]
  },
  {
   "cell_type": "code",
   "execution_count": 370,
   "metadata": {},
   "outputs": [
    {
     "data": {
      "text/plain": [
       "torch.Size([16, 1])"
      ]
     },
     "execution_count": 370,
     "metadata": {},
     "output_type": "execute_result"
    }
   ],
   "source": [
    "YTrain.shape"
   ]
  },
  {
   "cell_type": "code",
   "execution_count": 371,
   "metadata": {},
   "outputs": [
    {
     "data": {
      "text/plain": [
       "torch.Size([16, 1])"
      ]
     },
     "execution_count": 371,
     "metadata": {},
     "output_type": "execute_result"
    }
   ],
   "source": [
    "Ybar.shape"
   ]
  },
  {
   "cell_type": "code",
   "execution_count": 377,
   "metadata": {},
   "outputs": [],
   "source": [
    "guy = -2 * torch.mm(XTrain.transpose_(0,1),error)"
   ]
  },
  {
   "cell_type": "code",
   "execution_count": 379,
   "metadata": {},
   "outputs": [
    {
     "data": {
      "text/plain": [
       "tensor(-0.0165)"
      ]
     },
     "execution_count": 379,
     "metadata": {},
     "output_type": "execute_result"
    }
   ],
   "source": [
    "guy.mean() * 0.001"
   ]
  },
  {
   "cell_type": "code",
   "execution_count": 381,
   "metadata": {},
   "outputs": [],
   "source": [
    "guyy = torch.randn(3,1)"
   ]
  },
  {
   "cell_type": "code",
   "execution_count": 382,
   "metadata": {},
   "outputs": [
    {
     "data": {
      "text/plain": [
       "tensor([[1.1676],\n",
       "        [0.5069],\n",
       "        [0.5238]])"
      ]
     },
     "execution_count": 382,
     "metadata": {},
     "output_type": "execute_result"
    }
   ],
   "source": [
    "guyy + guy.mean() * 0.001"
   ]
  },
  {
   "cell_type": "code",
   "execution_count": 375,
   "metadata": {},
   "outputs": [],
   "source": [
    "def computeMiniBatchGrad(batchSize, error, XTrain):\n",
    "    np.random.shuffle(trainIndices)\n",
    "    batchIndices = trainIndices[:batchSize]\n",
    "    XSGD, ErrSGD = XTrain[batchIndices], error[batchIndices]\n",
    "    grad = -2 * torch.mm(XSGD.transpose(0,1), ErrSGD)\n",
    "    return grad.mean()"
   ]
  },
  {
   "cell_type": "code",
   "execution_count": 383,
   "metadata": {},
   "outputs": [
    {
     "data": {
      "text/plain": [
       "array([14, 13, 12,  2,  4, 15, 17,  1,  3,  9,  6, 11, 16, 10,  7,  8])"
      ]
     },
     "execution_count": 383,
     "metadata": {},
     "output_type": "execute_result"
    }
   ],
   "source": [
    "# For batchSize = 10, shuffle the indices and take 10 random samples to run mini batch SGD\n",
    "np.random.shuffle(trainIndices)\n",
    "trainIndices"
   ]
  },
  {
   "cell_type": "code",
   "execution_count": null,
   "metadata": {},
   "outputs": [],
   "source": [
    "def updateParams(theta, lrate, grad):\n",
    "    return theta - (lrate * grad)"
   ]
  },
  {
   "cell_type": "code",
   "execution_count": null,
   "metadata": {},
   "outputs": [],
   "source": [
    "def experiment(N, d, sigma) :\n",
    "    X, Y = getData(N, sigma)\n",
    "# When the difference between the previous and current mse is less than a threshold (0.0001)"
   ]
  },
  {
   "cell_type": "code",
   "execution_count": null,
   "metadata": {},
   "outputs": [],
   "source": [
    "def fitData(N, d, sigma, XTrain, YTrain)"
   ]
  },
  {
   "cell_type": "code",
   "execution_count": 425,
   "metadata": {},
   "outputs": [
    {
     "name": "stdout",
     "output_type": "stream",
     "text": [
      "# This is a polynomial of order <built-in function ord>.\n"
     ]
    },
    {
     "data": {
      "image/png": "[encoded data removed]",
      "text/plain": [
       "<Figure size 432x288 with 1 Axes>"
      ]
     },
     "metadata": {
      "needs_background": "light"
     },
     "output_type": "display_data"
    }
   ],
   "source": [
    "def PolyCoefficients(x, coeffs):\n",
    "    \"\"\" Returns a polynomial for ``x`` values for the ``coeffs`` provided.\n",
    "\n",
    "    The coefficients must be in ascending order (``x**0`` to ``x**o``).\n",
    "    \"\"\"\n",
    "    o = len(coeffs)\n",
    "    print(f'# This is a polynomial of order {ord}.')\n",
    "    y = 0\n",
    "    for i in range(o):\n",
    "        y += coeffs[i]*x**i\n",
    "    return y\n",
    "\n",
    "x = np.linspace(0, 9, 10)\n",
    "coeffs = [1, 2, 3, 4, 5]\n",
    "pyplot.plot(x, PolyCoefficients(x, coeffs))\n",
    "pyplot.show()"
   ]
  },
  {
   "cell_type": "code",
   "execution_count": 426,
   "metadata": {},
   "outputs": [
    {
     "name": "stdout",
     "output_type": "stream",
     "text": [
      "[0. 1. 2. 3. 4. 5. 6. 7. 8. 9.]\n"
     ]
    }
   ],
   "source": [
    "print(x)"
   ]
  },
  {
   "cell_type": "code",
   "execution_count": 427,
   "metadata": {},
   "outputs": [
    {
     "name": "stderr",
     "output_type": "stream",
     "text": [
      "/usr/local/lib/python3.7/site-packages/ipykernel_launcher.py:64: UserWarning: Using a target size (torch.Size([10])) that is different to the input size (torch.Size([10, 4, 1])). This will likely lead to incorrect results due to broadcasting. Please ensure they have the same size.\n"
     ]
    },
    {
     "ename": "IndexError",
     "evalue": "invalid index of a 0-dim tensor. Use tensor.item() to convert a 0-dim tensor to a Python number",
     "output_type": "error",
     "traceback": [
      "\u001b[0;31m---------------------------------------------------------------------------\u001b[0m",
      "\u001b[0;31mIndexError\u001b[0m                                Traceback (most recent call last)",
      "\u001b[0;32m<ipython-input-427-49ac7adde7be>\u001b[0m in \u001b[0;36m<module>\u001b[0;34m\u001b[0m\n\u001b[1;32m     63\u001b[0m     \u001b[0;31m# Forward pass\u001b[0m\u001b[0;34m\u001b[0m\u001b[0;34m\u001b[0m\u001b[0;34m\u001b[0m\u001b[0m\n\u001b[1;32m     64\u001b[0m     \u001b[0moutput\u001b[0m \u001b[0;34m=\u001b[0m \u001b[0mF\u001b[0m\u001b[0;34m.\u001b[0m\u001b[0msmooth_l1_loss\u001b[0m\u001b[0;34m(\u001b[0m\u001b[0mfc\u001b[0m\u001b[0;34m(\u001b[0m\u001b[0mbatch_x\u001b[0m\u001b[0;34m)\u001b[0m\u001b[0;34m,\u001b[0m \u001b[0mbatch_y\u001b[0m\u001b[0;34m)\u001b[0m\u001b[0;34m\u001b[0m\u001b[0;34m\u001b[0m\u001b[0m\n\u001b[0;32m---> 65\u001b[0;31m     \u001b[0mloss\u001b[0m \u001b[0;34m=\u001b[0m \u001b[0moutput\u001b[0m\u001b[0;34m.\u001b[0m\u001b[0mdata\u001b[0m\u001b[0;34m[\u001b[0m\u001b[0;36m0\u001b[0m\u001b[0;34m]\u001b[0m\u001b[0;34m\u001b[0m\u001b[0;34m\u001b[0m\u001b[0m\n\u001b[0m\u001b[1;32m     66\u001b[0m \u001b[0;34m\u001b[0m\u001b[0m\n\u001b[1;32m     67\u001b[0m     \u001b[0;31m# Backward pass\u001b[0m\u001b[0;34m\u001b[0m\u001b[0;34m\u001b[0m\u001b[0;34m\u001b[0m\u001b[0m\n",
      "\u001b[0;31mIndexError\u001b[0m: invalid index of a 0-dim tensor. Use tensor.item() to convert a 0-dim tensor to a Python number"
     ]
    }
   ],
   "source": [
    "import torch\n",
    "import torch.autograd\n",
    "import torch.nn.functional as F\n",
    "from torch.autograd import Variable\n",
    "\n",
    "train_data = torch.Tensor([\n",
    "   [40,  6,  4],\n",
    "   [44, 10,  4],\n",
    "   [46, 12,  5],\n",
    "   [48, 14,  7],\n",
    "   [52, 16,  9],\n",
    "   [58, 18, 12],\n",
    "   [60, 22, 14],\n",
    "   [68, 24, 20],\n",
    "   [74, 26, 21],\n",
    "   [80, 32, 24]])\n",
    "test_data = torch.Tensor([\n",
    "    [6, 4],\n",
    "    [10, 5],\n",
    "    [4, 8]])\n",
    "\n",
    "x_train = train_data[:,1:3]\n",
    "y_train = train_data[:,0]\n",
    "\n",
    "POLY_DEGREE = 4\n",
    "input_size = 2\n",
    "output_size = 1\n",
    "\n",
    "\n",
    "def make_features(x):\n",
    "    \"\"\"Builds features i.e. a matrix with columns [x, x^2, x^3, x^4].\"\"\"\n",
    "    x = x.unsqueeze(1)\n",
    "    return torch.cat([x ** i for i in range(1, POLY_DEGREE+1)], 1)\n",
    "\n",
    "\n",
    "\n",
    "def poly_desc(W, b):\n",
    "    \"\"\"Creates a string description of a polynomial.\"\"\"\n",
    "    result = 'y = '\n",
    "    for i, w in enumerate(W):\n",
    "        result += '{:+.2f} x^{} '.format(w, len(W) - i)\n",
    "    result += '{:+.2f}'.format(b[0])\n",
    "    return result\n",
    "\n",
    "\n",
    "def get_batch():\n",
    "    \"\"\"Builds a batch i.e. (x, f(x)) pair.\"\"\"\n",
    "    x = make_features(x_train)\n",
    "\n",
    "    return Variable(x), Variable(y_train)\n",
    "\n",
    "\n",
    "# Define model\n",
    "fc = torch.nn.Linear(input_size, output_size)\n",
    "\n",
    "for batch_idx in range(1000):\n",
    "    # Get data\n",
    "    batch_x, batch_y = get_batch()\n",
    "\n",
    "    # Reset gradients\n",
    "    fc.zero_grad()\n",
    "\n",
    "    # Forward pass\n",
    "    output = F.smooth_l1_loss(fc(batch_x), batch_y)\n",
    "    loss = output.data[0]\n",
    "\n",
    "    # Backward pass\n",
    "    output.backward()\n",
    "\n",
    "    # Apply gradients\n",
    "    for param in fc.parameters():\n",
    "        param.data.add_(-0.1 * param.grad.data)\n",
    "\n",
    "    # Stop criterion\n",
    "    if loss < 1e-3:\n",
    "        break\n",
    "\n",
    "print('Loss: {:.6f} after {} batches'.format(loss, batch_idx))\n",
    "print('==> Learned function:\\t' + poly_desc(fc.weight.data.view(-1), fc.bias.data))\n",
    "# print('==> Actual function:\\t' + poly_desc(W_target.view(-1), b_target))"
   ]
  },
  {
   "cell_type": "code",
   "execution_count": 434,
   "metadata": {},
   "outputs": [
    {
     "name": "stdout",
     "output_type": "stream",
     "text": [
      "1e-05\n"
     ]
    }
   ],
   "source": [
    "print(1e-5)"
   ]
  },
  {
   "cell_type": "code",
   "execution_count": null,
   "metadata": {},
   "outputs": [],
   "source": [
    "tensor([[ 1.8325],\n",
    "        [-8.9395],\n",
    "        [ 8.9359]])\n",
    "torch.Size([3, 1])\n",
    "80623\n",
    "80623\n",
    "0.03800293"
   ]
  },
  {
   "cell_type": "code",
   "execution_count": 435,
   "metadata": {},
   "outputs": [
    {
     "data": {
      "text/plain": [
       "True"
      ]
     },
     "execution_count": 435,
     "metadata": {},
     "output_type": "execute_result"
    }
   ],
   "source": [
    "True == True"
   ]
  },
  {
   "cell_type": "code",
   "execution_count": 440,
   "metadata": {},
   "outputs": [],
   "source": [
    "def checkReg(reg=False):\n",
    "    if reg:\n",
    "        print(5)"
   ]
  },
  {
   "cell_type": "code",
   "execution_count": 441,
   "metadata": {},
   "outputs": [],
   "source": [
    "checkReg()"
   ]
  },
  {
   "cell_type": "code",
   "execution_count": null,
   "metadata": {},
   "outputs": [],
   "source": [
    "Training Error : 0.09437 \t Testing Error : 0.14409 \t Bias : 0.11768"
   ]
  },
  {
   "cell_type": "code",
   "execution_count": 443,
   "metadata": {},
   "outputs": [],
   "source": [
    "import torch.nn as nn"
   ]
  },
  {
   "cell_type": "code",
   "execution_count": null,
   "metadata": {},
   "outputs": [],
   "source": [
    "super(LrModule, self).__init__()\n",
    "        # handle degree 0 case\n",
    "        if d == 0: d = 1\n",
    "        self.linear = nn.Linear(d,1)"
   ]
  },
  {
   "cell_type": "code",
   "execution_count": 446,
   "metadata": {},
   "outputs": [],
   "source": [
    "class PReg(nn.Module):\n",
    "    def __init__(self,d):\n",
    "        super().__init__()\n",
    "        self.linear = nn.Linear(d, 1) \n",
    "        \n",
    "    def forward(self,X):\n",
    "        Ybar = self.linear(X)\n",
    "        return Ybar"
   ]
  },
  {
   "cell_type": "code",
   "execution_count": 447,
   "metadata": {},
   "outputs": [],
   "source": [
    "lr = PReg(19)"
   ]
  },
  {
   "cell_type": "code",
   "execution_count": 448,
   "metadata": {},
   "outputs": [
    {
     "name": "stdout",
     "output_type": "stream",
     "text": [
      "PReg(\n",
      "  (linear): Linear(in_features=19, out_features=1, bias=True)\n",
      ")\n"
     ]
    }
   ],
   "source": [
    "print(lr)"
   ]
  },
  {
   "cell_type": "code",
   "execution_count": 449,
   "metadata": {},
   "outputs": [
    {
     "data": {
      "text/plain": [
       "0.3"
      ]
     },
     "execution_count": 449,
     "metadata": {},
     "output_type": "execute_result"
    }
   ],
   "source": [
    "3e-1"
   ]
  },
  {
   "cell_type": "code",
   "execution_count": null,
   "metadata": {},
   "outputs": [],
   "source": [
    "Combination : [2, 0, 0.01] \t Training Error : 0.27543535828590393 \t Testing Error : 0.8357973694801331 \t Bias : 0.5113434791564941\n",
    "Combination : [2, 0, 0.1] \t Training Error : 0.2658443748950958 \t Testing Error : 0.7938412427902222 \t Bias : 0.5086975693702698\n",
    "Combination : [2, 0, 1] \t Training Error : 0.8409621715545654 \t Testing Error : 2.4264109134674072 \t Bias : 1.5623778104782104\n",
    "Combination : [2, 1, 0.01] \t Training Error : 0.0002282893838128075 \t Testing Error : 2.2762134075164795 \t Bias : 0.7669061422348022\n",
    "Combination : [2, 1, 0.1] \t Training Error : 0.0005742012872360647 \t Testing Error : 2.455548048019409 \t Bias : 0.9120669960975647\n",
    "Combination : [2, 1, 1] \t Training Error : 0.15684331953525543 \t Testing Error : 14.360038757324219 \t Bias : 1.9285402297973633\n",
    "Combination : [2, 2, 0.01] \t Training Error : 0.0002634990669321269 \t Testing Error : 2.3674046993255615 \t Bias : 0.8214757442474365\n",
    "Combination : [2, 2, 0.1] \t Training Error : 8.072011951298919e-06 \t Testing Error : 2.7617104053497314 \t Bias : 0.8516261577606201\n",
    "Combination : [2, 2, 1] \t Training Error : 0.025817932561039925 \t Testing Error : 16.200529098510742 \t Bias : 1.7536776065826416\n",
    "Combination : [2, 3, 0.01] \t Training Error : 6.020594810252078e-06 \t Testing Error : 2.2847957611083984 \t Bias : 0.9269736409187317\n",
    "Combination : [2, 3, 0.1] \t Training Error : 0.000871309544891119 \t Testing Error : 2.5896987915039062 \t Bias : 1.0508630275726318\n",
    "Combination : [2, 3, 1] \t Training Error : 0.006033551879227161 \t Testing Error : 7.0246734619140625 \t Bias : 1.7427277565002441\n",
    "Combination : [2, 4, 0.01] \t Training Error : 0.00014551327330991626 \t Testing Error : 2.8424301147460938 \t Bias : 0.9572417140007019\n",
    "Combination : [2, 4, 0.1] \t Training Error : 0.0009432813385501504 \t Testing Error : 2.786477565765381 \t Bias : 1.056684136390686\n",
    "Combination : [2, 4, 1] \t Training Error : 0.002988298423588276 \t Testing Error : 31.421947479248047 \t Bias : 2.011925220489502\n",
    "Combination : [2, 5, 0.01] \t Training Error : 2.695010152820032e-05 \t Testing Error : 2.061913013458252 \t Bias : 0.8461853265762329\n",
    "Combination : [2, 5, 0.1] \t Training Error : 0.00012494537804741412 \t Testing Error : 2.449063777923584 \t Bias : 0.6907252073287964\n",
    "Combination : [2, 5, 1] \t Training Error : 0.002969895489513874 \t Testing Error : 25.896865844726562 \t Bias : 2.1489193439483643\n",
    "Combination : [2, 6, 0.01] \t Training Error : 4.9053156544687226e-05 \t Testing Error : 2.3982815742492676 \t Bias : 1.2571673393249512\n",
    "Combination : [2, 6, 0.1] \t Training Error : 0.0002968028129544109 \t Testing Error : 1.663123607635498 \t Bias : 0.47058966755867004\n",
    "Combination : [2, 6, 1] \t Training Error : 0.015831634402275085 \t Testing Error : 19.754831314086914 \t Bias : 1.5748144388198853\n",
    "Combination : [2, 7, 0.01] \t Training Error : 0.00015456514665856957 \t Testing Error : 1.4248723983764648 \t Bias : 0.37884044647216797\n",
    "Combination : [2, 7, 0.1] \t Training Error : 0.0001971367746591568 \t Testing Error : 1.7252596616744995 \t Bias : 0.573484480381012\n",
    "Combination : [2, 7, 1] \t Training Error : 0.0008390448638238013 \t Testing Error : 25.877704620361328 \t Bias : 1.4131643772125244\n",
    "Combination : [2, 8, 0.01] \t Training Error : 0.00012491723464336246 \t Testing Error : 1.3648737668991089 \t Bias : 0.4373938739299774\n",
    "Combination : [2, 8, 0.1] \t Training Error : 0.00033116363920271397 \t Testing Error : 3.395367383956909 \t Bias : nan\n",
    "Combination : [2, 8, 1] \t Training Error : 0.037712618708610535 \t Testing Error : 18.01871681213379 \t Bias : 1.4701292514801025\n",
    "Combination : [2, 9, 0.01] \t Training Error : 3.0427884173457575e+24 \t Testing Error : 1.1130608288521341e+24 \t Bias : 2.3674720679544828e+22\n",
    "Combination : [2, 9, 0.1] \t Training Error : 0.00027264899108558893 \t Testing Error : 2.0299854278564453 \t Bias : nan\n",
    "Combination : [2, 9, 1] \t Training Error : 134834.890625 \t Testing Error : 101446.1875 \t Bias : 2143.748779296875\n",
    "Combination : [2, 10, 0.01] \t Training Error : 9.134004940515283e+26 \t Testing Error : 7.944434920522315e+26 \t Bias : 1.7026069231794315e+25\n",
    "Combination : [2, 10, 0.1] \t Training Error : 0.0001223546132678166 \t Testing Error : 2.24362850189209 \t Bias : 0.4329245090484619\n",
    "Combination : [2, 10, 1] \t Training Error : inf \t Testing Error : inf \t Bias : 2.0150629400941695e+35\n",
    "Combination : [2, 11, 0.01] \t Training Error : 3.693173857755028e-05 \t Testing Error : 1.6200364828109741 \t Bias : 0.34369727969169617\n",
    "Combination : [2, 11, 0.1] \t Training Error : 4.5872217015130445e-05 \t Testing Error : 1.8513725996017456 \t Bias : 0.480142205953598\n",
    "Combination : [2, 11, 1] \t Training Error : 0.03324945643544197 \t Testing Error : 22.86661720275879 \t Bias : 1.3431227207183838\n",
    "Combination : [2, 12, 0.01] \t Training Error : 2.9807756618538406e-06 \t Testing Error : 1.1795129776000977 \t Bias : 0.3207702338695526\n",
    "Combination : [2, 12, 0.1] \t Training Error : 0.000192186824278906 \t Testing Error : 1.569845199584961 \t Bias : 0.3474133014678955\n",
    "Combination : [2, 12, 1] \t Training Error : 0.00365641200914979 \t Testing Error : 26.07671546936035 \t Bias : 1.8738210201263428\n",
    "Combination : [2, 13, 0.01] \t Training Error : 3.984002614743076e-05 \t Testing Error : 1.760117530822754 \t Bias : 0.359337717294693\n",
    "Combination : [2, 13, 0.1] \t Training Error : 8.847319259075448e-05 \t Testing Error : 1.7088972330093384 \t Bias : 0.5490542054176331\n",
    "Combination : [2, 13, 1] \t Training Error : 0.045493435114622116 \t Testing Error : 18.693647384643555 \t Bias : 1.332298994064331\n",
    "Combination : [2, 14, 0.01] \t Training Error : 0.00010623306297929958 \t Testing Error : 1.3266843557357788 \t Bias : 0.3316033184528351"
   ]
  }
 ],
 "metadata": {
  "kernelspec": {
   "display_name": "Python 3",
   "language": "python",
   "name": "python3"
  },
  "language_info": {
   "codemirror_mode": {
    "name": "ipython",
    "version": 3
   },
   "file_extension": ".py",
   "mimetype": "text/x-python",
   "name": "python",
   "nbconvert_exporter": "python",
   "pygments_lexer": "ipython3",
   "version": "3.7.2"
  }
 },
 "nbformat": 4,
 "nbformat_minor": 2
}
